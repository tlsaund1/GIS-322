{
  "nbformat": 4,
  "nbformat_minor": 0,
  "metadata": {
    "colab": {
      "provenance": [],
      "authorship_tag": "ABX9TyNDHFbcCJg1FCBvZrJ6t4bF",
      "include_colab_link": true
    },
    "kernelspec": {
      "name": "python3",
      "display_name": "Python 3"
    },
    "language_info": {
      "name": "python"
    }
  },
  "cells": [
    {
      "cell_type": "markdown",
      "metadata": {
        "id": "view-in-github",
        "colab_type": "text"
      },
      "source": [
        "<a href=\"https://colab.research.google.com/github/tlsaund1/GIS-322/blob/main/Assignment_1.ipynb\" target=\"_parent\"><img src=\"https://colab.research.google.com/assets/colab-badge.svg\" alt=\"Open In Colab\"/></a>"
      ]
    },
    {
      "cell_type": "markdown",
      "source": [
        "Taylor Saunders\n",
        "3/17/2024"
      ],
      "metadata": {
        "id": "Dwxo2LndDR08"
      }
    },
    {
      "cell_type": "markdown",
      "source": [
        "Assume there are 10 teams in a competition. Their names are \"team1\", \"team2\" .. \"team10\".\n",
        "\n",
        "Write a function to generate their order of performance randomly."
      ],
      "metadata": {
        "id": "95BJDa5J_9FF"
      }
    },
    {
      "cell_type": "code",
      "source": [
        "import random\n",
        "\n",
        "def order():\n",
        "    # List tof teams\n",
        "    team_names = [\"team1\", \"team2\", \"team3\", \"team4\", \"team5\", \"team6\", \"team7\", \"team8\", \"team9\", \"team10\"]\n",
        "    # Empty list to store the order\n",
        "    team_order = []\n",
        "\n",
        "    # Generate random order\n",
        "    while len(team_names) > 0:\n",
        "        # Generate a random index\n",
        "        random_index = random.randint(0, len(team_names) - 1)\n",
        "        # Remove the item from the current list and add it to the new list\n",
        "        team_order.append(team_names.pop(random_index))\n",
        "\n",
        "    return team_order\n",
        "\n",
        "# print result of function\n",
        "print(order())"
      ],
      "metadata": {
        "colab": {
          "base_uri": "https://localhost:8080/"
        },
        "id": "F_BMhMg0A6l0",
        "outputId": "76ad36a3-715d-4aaf-8a3c-9c3370681584"
      },
      "execution_count": null,
      "outputs": [
        {
          "output_type": "stream",
          "name": "stdout",
          "text": [
            "['team5', 'team9', 'team8', 'team2', 'team6', 'team10', 'team7', 'team3', 'team4', 'team1']\n"
          ]
        }
      ]
    },
    {
      "cell_type": "code",
      "source": [
        "food = [\"pizza\", \"pie\", \"burger\"]\n",
        "food.append(\"pasta\")\n",
        "\n",
        "del food[-1]\n",
        "\n",
        "print(food[-1])"
      ],
      "metadata": {
        "colab": {
          "base_uri": "https://localhost:8080/"
        },
        "id": "9jSrKv1cDriL",
        "outputId": "dadcdb8e-c6bd-425f-a02f-442b10d738bd"
      },
      "execution_count": null,
      "outputs": [
        {
          "output_type": "stream",
          "name": "stdout",
          "text": [
            "burger\n"
          ]
        }
      ]
    },
    {
      "cell_type": "code",
      "source": [
        "place = {\"name\": \"Walmart\", \"longitude\": -123.321, \"latitude\": 30.432}\n",
        "place[\"latitude\"]"
      ],
      "metadata": {
        "colab": {
          "base_uri": "https://localhost:8080/"
        },
        "id": "oTgs9YDeD7Qu",
        "outputId": "74974651-9b65-4922-89a0-f8ba34f96a7b"
      },
      "execution_count": null,
      "outputs": [
        {
          "output_type": "execute_result",
          "data": {
            "text/plain": [
              "30.432"
            ]
          },
          "metadata": {},
          "execution_count": 22
        }
      ]
    },
    {
      "cell_type": "code",
      "source": [
        "random.randint(0,9)"
      ],
      "metadata": {
        "colab": {
          "base_uri": "https://localhost:8080/"
        },
        "id": "mzuKTO5REBW-",
        "outputId": "75e35c65-4a25-41bb-d323-f2c1f5e8a117"
      },
      "execution_count": null,
      "outputs": [
        {
          "output_type": "execute_result",
          "data": {
            "text/plain": [
              "8"
            ]
          },
          "metadata": {},
          "execution_count": 32
        }
      ]
    },
    {
      "cell_type": "code",
      "source": [
        "names = [\"Tom\", \"Jerry\", \"Donald\"]\n",
        "\n",
        "def do_stuff(need_a_list):\n",
        "\n",
        "    print(names.pop())\n",
        "\n",
        "do_stuff(names)"
      ],
      "metadata": {
        "colab": {
          "base_uri": "https://localhost:8080/"
        },
        "id": "kXZpDhV_EJiD",
        "outputId": "d96d5ac4-3611-4501-fb81-6552aa320623"
      },
      "execution_count": null,
      "outputs": [
        {
          "output_type": "stream",
          "name": "stdout",
          "text": [
            "Donald\n"
          ]
        }
      ]
    },
    {
      "cell_type": "code",
      "source": [
        "list_a = [1, 2, 3]\n",
        "\n",
        "list_b = [9, 8, 7]\n",
        "\n",
        "list_b.append(list_a.pop())\n",
        "\n",
        "print(list_b)"
      ],
      "metadata": {
        "id": "4qIPWlCSESvr",
        "outputId": "945fb815-35a6-4344-cb28-a88424531049",
        "colab": {
          "base_uri": "https://localhost:8080/"
        }
      },
      "execution_count": null,
      "outputs": [
        {
          "output_type": "stream",
          "name": "stdout",
          "text": [
            "[9, 8, 7, 3]\n"
          ]
        }
      ]
    }
  ]
}