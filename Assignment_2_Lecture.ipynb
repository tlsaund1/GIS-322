{
  "nbformat": 4,
  "nbformat_minor": 0,
  "metadata": {
    "colab": {
      "provenance": [],
      "authorship_tag": "ABX9TyPtEfLCnpMyrFXNPuNC5c7V",
      "include_colab_link": true
    },
    "kernelspec": {
      "name": "python3",
      "display_name": "Python 3"
    },
    "language_info": {
      "name": "python"
    }
  },
  "cells": [
    {
      "cell_type": "markdown",
      "metadata": {
        "id": "view-in-github",
        "colab_type": "text"
      },
      "source": [
        "<a href=\"https://colab.research.google.com/github/tlsaund1/GIS-322/blob/main/Assignment_2_Lecture.ipynb\" target=\"_parent\"><img src=\"https://colab.research.google.com/assets/colab-badge.svg\" alt=\"Open In Colab\"/></a>"
      ]
    },
    {
      "cell_type": "markdown",
      "source": [
        "### Taylor Saunders\n",
        "# Spatial Data Structure - Vector\n",
        "\n",
        "Points: Each individual point is defined by a single x, y coordinate. There can be many points in a vector point file. Examples of point data include: sampling locations, the location of individual trees or the location of plots.\n",
        "\n",
        "Lines: Lines are composed of many (at least 2) vertices, or points, that are connected. For instance, a road or a stream may be represented by a line. This line is composed of a series of segments, each “bend” in the road or stream represents a vertex that has defined x, y location.\n",
        "\n",
        "Polygons: A polygon consists of 3 or more vertices that are connected and “closed”. Thus the outlines of plot boundaries, lakes, oceans, and states or countries are often represented by polygons. Occasionally, a polygon can have a hole in the middle of it (like a doughnut), this is something to be aware of but not an issue you will deal with in this tutorial."
      ],
      "metadata": {
        "id": "B2yp6GOrc9wB"
      }
    },
    {
      "cell_type": "code",
      "execution_count": 2,
      "metadata": {
        "id": "CNJUtMkWc3Ax"
      },
      "outputs": [],
      "source": [
        "# Define a point by its x and y coordinates\n",
        "x1, y1 = 0,0\n",
        "\n",
        "#define a second point\n",
        "x2, y2 = 3, 4"
      ]
    },
    {
      "cell_type": "markdown",
      "source": [
        "# Distance\n",
        "A typical spatial operation for point data is to calculate the distance between two points.\n",
        "\n",
        "√[(x₂ - x₁)² + (y₂ - y₁)²]\n",
        "\n",
        "use built in math module"
      ],
      "metadata": {
        "id": "zDmYHc2Rde0e"
      }
    },
    {
      "cell_type": "code",
      "source": [
        "import math\n",
        "print(math.sqrt(4))\n",
        "print(math.sqrt(9))"
      ],
      "metadata": {
        "colab": {
          "base_uri": "https://localhost:8080/"
        },
        "id": "Q-_EMZI1dduf",
        "outputId": "1a37f5ee-8643-4691-8758-4f923ceeed90"
      },
      "execution_count": 3,
      "outputs": [
        {
          "output_type": "stream",
          "name": "stdout",
          "text": [
            "2.0\n",
            "3.0\n"
          ]
        }
      ]
    },
    {
      "cell_type": "code",
      "source": [
        "#define distance() function, input two points, output distance\n",
        "\n",
        "def distance(x1, y1, x2, y2):\n",
        "  d = math.sqrt((x1-x2)**2 + (y1-y2)**2)\n",
        "  return d\n",
        "\n",
        "# define two points\n",
        "a1, a2 = 0, 0 # point1\n",
        "b1, b2 = 3, 4 # point2\n",
        "\n",
        "dis = distance(a1, a2, b1, b2) #Input variables\n",
        "print(\"The distance between p1 and p2 is: \", dis)\n"
      ],
      "metadata": {
        "colab": {
          "base_uri": "https://localhost:8080/"
        },
        "id": "b_i__c0wd5Tl",
        "outputId": "68347fea-c4ee-4215-92a3-b2466a019234"
      },
      "execution_count": 4,
      "outputs": [
        {
          "output_type": "stream",
          "name": "stdout",
          "text": [
            "The distance between p1 and p2 is:  5.0\n"
          ]
        }
      ]
    },
    {
      "cell_type": "markdown",
      "source": [
        "Alternative distance function:"
      ],
      "metadata": {
        "id": "PmxkCFRueqiV"
      }
    },
    {
      "cell_type": "code",
      "source": [
        "# last method had four parameters\n",
        "# the coordinates can be structured into a list, so there will only be two parameters to calculate distance\n",
        "\n",
        "def distance(p1, p2): # lists\n",
        "  #to access the indexes of the list, use p1[0] and p1[1]\n",
        "  d = math.sqrt((p1[0]-p2[0])**2 + (p1[1]-p2[1])**2)\n",
        "  return d\n",
        "\n",
        "#define the two points\n",
        "p1 = [0,0]\n",
        "p2 = [3, 4]\n",
        "\n",
        "#call function\n",
        "dis = distance(p1, p2)\n",
        "print(\"The distance between p1 and p2 is: \", dis)"
      ],
      "metadata": {
        "colab": {
          "base_uri": "https://localhost:8080/"
        },
        "id": "VhijwqrtemQK",
        "outputId": "cd17ea09-e99f-45f1-980d-0b4a9cc8f409"
      },
      "execution_count": 5,
      "outputs": [
        {
          "output_type": "stream",
          "name": "stdout",
          "text": [
            "The distance between p1 and p2 is:  5.0\n"
          ]
        }
      ]
    },
    {
      "cell_type": "markdown",
      "source": [
        "#Polyline\n",
        "Lines are composed of many (at least 2) vertices, or points, that are connected. For instance, a road or a stream may be represented by a line. This line is composed of a series of segments, each “bend” in the road or stream represents a vertex that has defined x, y location."
      ],
      "metadata": {
        "id": "DdZjdq8PgSWn"
      }
    },
    {
      "cell_type": "code",
      "source": [
        "# to define a polyline, use a data structure to define a list of points\n",
        "\n",
        "#option 1: define it as a list of list\n",
        "p1 = [1, 2]\n",
        "p2 = [3,5]\n",
        "p3 = [4,10]\n",
        "\n",
        "poly1 = [p1,p2,p3]\n",
        "print(poly1)\n",
        "\n",
        "# same as:\n",
        "poly1 = [[1,2], [3,5], [4,10]]\n",
        "print(poly1)\n",
        "\n",
        "#or a list of two lists, a list of all x and a list of all y coordinates\n",
        "poly1 = [[p1[0],p2[0],p3[0]],[p1[1],p2[1],p3[1]]]\n",
        "print(poly1)\n"
      ],
      "metadata": {
        "colab": {
          "base_uri": "https://localhost:8080/"
        },
        "id": "i5k1zGicgT5k",
        "outputId": "463bafad-e7fd-4455-ce9c-e1591acc49cd"
      },
      "execution_count": 6,
      "outputs": [
        {
          "output_type": "stream",
          "name": "stdout",
          "text": [
            "[[1, 2], [3, 5], [4, 10]]\n",
            "[[1, 2], [3, 5], [4, 10]]\n",
            "[[1, 3, 4], [2, 5, 10]]\n"
          ]
        }
      ]
    },
    {
      "cell_type": "markdown",
      "source": [
        "#Length of Polyline\n",
        "The length of the polyline equals to the sum of each line segment.\n",
        "\n",
        "Say a polyline as three points, p1, p2, p3\n",
        "\n",
        "Then the length of the polyline equals to the sum of two line segments:\n",
        "\n",
        "<p1,p2> and <p2,p3>\n",
        "\n",
        "Length of a segment can be calculated as the straightline distance between the two points.\n",
        "\n",
        "Following this simple example, if a polyline has n point: p1,p2...pn\n",
        "\n",
        "Then the length of the polyline equals to the sum of n-1 line segments:\n",
        "\n",
        "<p1,p2>, <p2,p3>, <p3,p4> .. <p(n-1), pn>\n"
      ],
      "metadata": {
        "id": "Q933aW-siLcY"
      }
    },
    {
      "cell_type": "code",
      "source": [
        "#process:\n",
        "#use loop to loop through first n-1 points,  because if there are n points, there will be only n-1 segments\n",
        "# if the current point as index of i, then its next point will have index of i+1, using these indices,\n",
        "#we can get access to the coordinates of p(i) and p(i+1) and then call the distance() function to get the length of the line segment.\n",
        "#obtain the length of the polyline by summing up the length of all line segments."
      ],
      "metadata": {
        "id": "15fIWYi_iIg2"
      },
      "execution_count": 7,
      "outputs": []
    },
    {
      "cell_type": "code",
      "source": [
        "poly1 = [[1,2], [3,5], [4, 10], [12, 20]] # four points"
      ],
      "metadata": {
        "id": "pl5CcQ0PjDCx"
      },
      "execution_count": 8,
      "outputs": []
    },
    {
      "cell_type": "code",
      "source": [
        "#define a distance function first, which will take two points in the structure of each point as a list\n",
        "def distance(p1, p2):\n",
        "  d = math.sqrt((p1[0]-p1[1])**2 + (p2[0]-p2[1])**2)\n",
        "  return d"
      ],
      "metadata": {
        "id": "ts1CsE97jC9g"
      },
      "execution_count": 9,
      "outputs": []
    },
    {
      "cell_type": "code",
      "source": [
        "#Set the length variable outside the loop, with initial value 0\n",
        "length = 0\n",
        "print(\"Initial length is: \", length)\n",
        "#loop\n",
        "for i in range (len(poly1)-1): # get each element(point) of the poly1 list, excluding the last point (n-1)\n",
        "  print(\"Iteration\", i)\n",
        "  pi = poly1[i] #get ith point\n",
        "  pi_plus1 = poly1[i+1] #get (i+1)th point\n",
        "  dis = distance (pi, pi_plus1)\n",
        "  dis = distance (pi, pi_plus1)\n",
        "  print(\"   The distance between p%d and p%d is: %.2f\" % (i, i+1, dis)) # %f means to output a floating number, .2 means two decimal digits\n",
        "  length += dis #add each segment length to the total length\n",
        "  print(\"   Polyline length becomes: %.2f (by adding %.2f)\" % (length,dis))"
      ],
      "metadata": {
        "colab": {
          "base_uri": "https://localhost:8080/"
        },
        "id": "40XNZImvmJ69",
        "outputId": "95e34446-e9b8-4dd0-b3b2-5a649023ec71"
      },
      "execution_count": 10,
      "outputs": [
        {
          "output_type": "stream",
          "name": "stdout",
          "text": [
            "Initial length is:  0\n",
            "Iteration 0\n",
            "   The distance between p0 and p1 is: 2.24\n",
            "   Polyline length becomes: 2.24 (by adding 2.24)\n",
            "Iteration 1\n",
            "   The distance between p1 and p2 is: 6.32\n",
            "   Polyline length becomes: 8.56 (by adding 6.32)\n",
            "Iteration 2\n",
            "   The distance between p2 and p3 is: 10.00\n",
            "   Polyline length becomes: 18.56 (by adding 10.00)\n"
          ]
        }
      ]
    },
    {
      "cell_type": "code",
      "source": [
        "#to make this into a funciton:\n",
        "def lengthCal(poly1):\n",
        "   #Set the length variable outside the loop, with initial value 0\n",
        "  length = 0\n",
        "  print(\"Initial length is: \", length)\n",
        "  # Next, let's write the loop\n",
        "  for i in range(len(poly1)-1): # get each element (point) of the poly1 list, excluding the last point (because there is only n-1 segments, so we used len(poly1)-1 here.\n",
        "    print(\"Iteration\", i)\n",
        "    pi = poly1[i] # get ith point\n",
        "    pi_plus1 = poly1[i+1] # get (i+1)th point\n",
        "    dis = distance (pi, pi_plus1)\n",
        "    print(\"   The distance between p%d and p%d is: %.2f\" % (i, i+1, dis)) # %f means to output a floating number, .2 means two decimal digits\n",
        "    length += dis #add each segment length to the total length\n",
        "    print(\"   Polyline length becomes: %.2f (by adding %.2f)\" % (length,dis))\n",
        "lengthCal(poly1)"
      ],
      "metadata": {
        "colab": {
          "base_uri": "https://localhost:8080/"
        },
        "id": "uy6y_q6mm9uA",
        "outputId": "9b023e61-0c4b-4bac-e8d4-a92243e55bd1"
      },
      "execution_count": 11,
      "outputs": [
        {
          "output_type": "stream",
          "name": "stdout",
          "text": [
            "Initial length is:  0\n",
            "Iteration 0\n",
            "   The distance between p0 and p1 is: 2.24\n",
            "   Polyline length becomes: 2.24 (by adding 2.24)\n",
            "Iteration 1\n",
            "   The distance between p1 and p2 is: 6.32\n",
            "   Polyline length becomes: 8.56 (by adding 6.32)\n",
            "Iteration 2\n",
            "   The distance between p2 and p3 is: 10.00\n",
            "   Polyline length becomes: 18.56 (by adding 10.00)\n"
          ]
        }
      ]
    },
    {
      "cell_type": "code",
      "source": [
        "#example\n",
        "polyline_1 = [[1,2], [3,5], [4, 10], [12, 20]]\n",
        "lengthCal(polyline_1)"
      ],
      "metadata": {
        "colab": {
          "base_uri": "https://localhost:8080/"
        },
        "id": "i207kpyknNiI",
        "outputId": "302c82a3-e0ff-4ae0-a2bc-3435dc46488f"
      },
      "execution_count": 12,
      "outputs": [
        {
          "output_type": "stream",
          "name": "stdout",
          "text": [
            "Initial length is:  0\n",
            "Iteration 0\n",
            "   The distance between p0 and p1 is: 2.24\n",
            "   Polyline length becomes: 2.24 (by adding 2.24)\n",
            "Iteration 1\n",
            "   The distance between p1 and p2 is: 6.32\n",
            "   Polyline length becomes: 8.56 (by adding 6.32)\n",
            "Iteration 2\n",
            "   The distance between p2 and p3 is: 10.00\n",
            "   Polyline length becomes: 18.56 (by adding 10.00)\n"
          ]
        }
      ]
    },
    {
      "cell_type": "markdown",
      "source": [
        "#Polygon\n",
        "A polygon consists of 3 or more vertices that are connected and “closed”. Thus the outlines of plot boundaries, lakes, oceans, and states or countries are often represented by polygons. Occasionally, a polygon can have a hole in the middle of it (like a doughnut), this is something to be aware of but not an issue you will deal with in this tutorial.\n",
        "\n",
        "Polygon is also defined as a sequence of points, the only difference is: in order to make it a closed loop, the first point and last point in a polygon should be the same. See below example"
      ],
      "metadata": {
        "id": "0GVu368IwDnI"
      }
    },
    {
      "cell_type": "code",
      "source": [
        "poly1 = [[1,2], [3,5], [4, 10], [12, 20], [1,2]] #contains four points\n",
        "\n",
        "length = 0\n",
        "print(\"Initial length is: \", length)\n",
        "\n",
        "# Next, let's write the loop\n",
        "for i in range(len(poly1)-1): # get each element (point) of the poly1 list, excluding the last point (because there is only n-1 segments, so we used len(poly1)-1 here.\n",
        "  print(\"Iteration\", i)\n",
        "  pi = poly1[i] # get ith point\n",
        "  pi_plus1 = poly1[i+1] # get (i+1)th point\n",
        "  dis = distance(pi, pi_plus1)\n",
        "  print(\"   The distance between p%d and p%d is: %.2f\" % (i, i+1, dis)) # %f means to output a floating number, .2 means two decimal digits\n",
        "  length += dis #add each segment length to the total length\n",
        "  print(\"   Length becomes: %.2f (by adding %.2f)\\n\" % (length,dis))\n",
        "\n",
        "print(\"The perimeter length of the polygon is: \", length)"
      ],
      "metadata": {
        "colab": {
          "base_uri": "https://localhost:8080/"
        },
        "id": "Xl-q7qlnwBFx",
        "outputId": "79c2a0c9-6e13-45c5-8fc5-b4fdb87da124"
      },
      "execution_count": 13,
      "outputs": [
        {
          "output_type": "stream",
          "name": "stdout",
          "text": [
            "Initial length is:  0\n",
            "Iteration 0\n",
            "   The distance between p0 and p1 is: 2.24\n",
            "   Length becomes: 2.24 (by adding 2.24)\n",
            "\n",
            "Iteration 1\n",
            "   The distance between p1 and p2 is: 6.32\n",
            "   Length becomes: 8.56 (by adding 6.32)\n",
            "\n",
            "Iteration 2\n",
            "   The distance between p2 and p3 is: 10.00\n",
            "   Length becomes: 18.56 (by adding 10.00)\n",
            "\n",
            "Iteration 3\n",
            "   The distance between p3 and p4 is: 8.06\n",
            "   Length becomes: 26.62 (by adding 8.06)\n",
            "\n",
            "The perimeter length of the polygon is:  26.6228810461351\n"
          ]
        }
      ]
    },
    {
      "cell_type": "markdown",
      "source": [
        "#Coding with Shapely library\n",
        "\n",
        "Capabilities:\n",
        "Create a Line or Polygon from a Collection of Point geometries Calculate areas/length/bounds etc. of input geometries Make geometric operations based on the input geometries such as Union, Difference, Distance etc. Make spatial queries between geometries such Intersects, Touches, Crosses, Within etc. Geometric Objects consist of coordinate tuples where:\n",
        "\n",
        "Point -object represents a single point in space. Points can be either two-dimensional (x, y) or three dimensional (x, y, z). LineString -object (i.e. a line) represents a sequence of points joined together to form a line. Hence, a line consist of a list of at least two coordinate tuples Polygon -object represents a filled area that consists of a list of at least three coordinate tuples that forms the outerior ring and a (possible) list of hole polygons. It is also possible to have a collection of geometric objects (e.g. Polygons with multiple parts):\n",
        "\n",
        "MultiPoint -object represents a collection of points and consists of a list of coordinate-tuples MultiLineString -object represents a collection of lines and consists of a list of line-like sequences MultiPolygon -object represents a collection of polygons that consists of a list of polygon-like sequences that construct from exterior ring and (possible) hole list tuples"
      ],
      "metadata": {
        "id": "xZaacVMlxBaV"
      }
    },
    {
      "cell_type": "code",
      "source": [
        "from shapely.geometry import Point, LineString, Polygon\n",
        "\n",
        "point1 = Point(2.2, 4.2) # this is to create an instance of the Point class using coordinates.\n",
        "\n",
        "point2 = Point(7.2, -25.1)\n",
        "\n",
        "point3 = Point(10.23, -5.456)\n",
        "\n",
        "point3D = Point(9.46, -5.76, 2.35)\n",
        "\n",
        "# What is the type of the point?\n",
        "point_type = type(point1)\n",
        "\n",
        "print(\"Point1 has type of: \", point_type)"
      ],
      "metadata": {
        "colab": {
          "base_uri": "https://localhost:8080/"
        },
        "id": "zShGyPX2xEcF",
        "outputId": "332eeade-44b4-4365-d8ab-220d30a941af"
      },
      "execution_count": 14,
      "outputs": [
        {
          "output_type": "stream",
          "name": "stdout",
          "text": [
            "Point1 has type of:  <class 'shapely.geometry.point.Point'>\n"
          ]
        }
      ]
    },
    {
      "cell_type": "code",
      "source": [
        "print(point2)\n",
        "\n",
        "print(point3D)"
      ],
      "metadata": {
        "colab": {
          "base_uri": "https://localhost:8080/"
        },
        "id": "xVgBip0czpc6",
        "outputId": "bf6b7bd9-02f6-4f6d-d41a-0f52b4b82fb3"
      },
      "execution_count": 15,
      "outputs": [
        {
          "output_type": "stream",
          "name": "stdout",
          "text": [
            "POINT (7.2 -25.1)\n",
            "POINT Z (9.46 -5.76 2.35)\n"
          ]
        }
      ]
    },
    {
      "cell_type": "markdown",
      "source": [
        "### Extract the coordinates of a Point and calculate the Euclidian distance between points.\n",
        "\n",
        "Method 1: objectName.x objectName.y will give you the x and y coordinates\n",
        "\n",
        "Method 2: objectName.coords will give you a CoordinateSequence, we can then further extract coordinates from the CoordinateSequence using"
      ],
      "metadata": {
        "id": "6OyRga4Pzwjh"
      }
    },
    {
      "cell_type": "code",
      "source": [
        "point1 = Point(2.2, 4.2)\n",
        "\n",
        "# First method:\n",
        "x = point1.x\n",
        "y = point1.y\n",
        "print(x)\n",
        "print(y)\n",
        "\n",
        "# Second method:\n",
        "coords = point1.coords  # use .coords to get its attributes\n",
        "\n",
        "print(\"Type of 'coords' is: \", type(coords))\n",
        "\n",
        "xy = coords.xy  #this xy is a tuple where x and y coordinates are stored inside of two numpy arrays\n",
        "print(\"Type of 'xy' is: \", type(xy))\n",
        "print(\"xy is: \", xy)\n",
        "x = xy[0][0]\n",
        "y = xy[1][0]\n",
        "print(x)\n",
        "print(y)"
      ],
      "metadata": {
        "colab": {
          "base_uri": "https://localhost:8080/"
        },
        "id": "OhW3JwFJz0rx",
        "outputId": "f032be11-3779-41be-a96f-1fa07d30368e"
      },
      "execution_count": 16,
      "outputs": [
        {
          "output_type": "stream",
          "name": "stdout",
          "text": [
            "2.2\n",
            "4.2\n",
            "Type of 'coords' is:  <class 'shapely.coords.CoordinateSequence'>\n",
            "Type of 'xy' is:  <class 'tuple'>\n",
            "xy is:  (array('d', [2.2]), array('d', [4.2]))\n",
            "2.2\n",
            "4.2\n"
          ]
        }
      ]
    },
    {
      "cell_type": "markdown",
      "source": [
        "###Distance calculation between Two Points"
      ],
      "metadata": {
        "id": "LjHQHjgQ0FgY"
      }
    },
    {
      "cell_type": "code",
      "source": [
        "point1 = Point(2.2, 4.2)\n",
        "point2 = Point(7.2, -25.1)\n",
        "\n",
        "dis = point1.distance(point2)\n",
        "\n",
        "print(\"Distance between the points is {0:.2f} decimal degrees\".format(dis)) # this is another way of formatting output, equivalent to:\n",
        "print(\"Distance between the points is %.2f decimal degrees\" % (dis))"
      ],
      "metadata": {
        "colab": {
          "base_uri": "https://localhost:8080/"
        },
        "id": "wriIiUWw0I-3",
        "outputId": "b4bb84a5-4f09-4dea-e14e-7c3a0c41814c"
      },
      "execution_count": 17,
      "outputs": [
        {
          "output_type": "stream",
          "name": "stdout",
          "text": [
            "Distance between the points is 29.72 decimal degrees\n",
            "Distance between the points is 29.72 decimal degrees\n"
          ]
        }
      ]
    },
    {
      "cell_type": "markdown",
      "source": [
        "#LineString\n",
        "\n",
        "Creating a LineString -object is fairly similar to how Point is created. Now instead using a single coordinate-tuple we can construct the line using either a list of shapely Point -objects or pass coordinate-tuples:"
      ],
      "metadata": {
        "id": "EFAPh5ni0bE8"
      }
    },
    {
      "cell_type": "code",
      "source": [
        "line = LineString([point1, point2, point3])\n",
        "\n",
        "line2 = LineString([(2.2, 4.2), (7.2, -25.1), (10.23, -5.456)])"
      ],
      "metadata": {
        "id": "ZMVAcXzZ0E6Q"
      },
      "execution_count": 18,
      "outputs": []
    },
    {
      "cell_type": "code",
      "source": [
        "#get x and y coordinates of the linestring\n",
        "lxy = line.xy\n",
        "\n",
        "print(\"LineXY: \", lxy)\n",
        "lx = lxy[0]  #extract all the x coordinatesm this will return a numpy array\n",
        "ly =lxy[1] #extract y\n",
        "\n",
        "print(\"Xcoords: \", lx)\n",
        "print(\"Ycoords: \", ly)\n",
        "\n",
        "points = [] #empty list\n",
        "\n",
        "for i in range(len(lx)): # go through each coordinate in lx\n",
        "  pi = Point(lx[i],ly[i]) # get corresponding x and y coordinates and create a shapely point from them\n",
        "  points.append(pi) # add the point object to the 'points' list\n",
        "\n",
        "print(points)"
      ],
      "metadata": {
        "colab": {
          "base_uri": "https://localhost:8080/"
        },
        "id": "_qzoTr1cyXHb",
        "outputId": "3ded6de8-4065-4a4c-bedc-204d5b980fb6"
      },
      "execution_count": 22,
      "outputs": [
        {
          "output_type": "stream",
          "name": "stdout",
          "text": [
            "LineXY:  (array('d', [2.2, 7.2, 10.23]), array('d', [4.2, -25.1, -5.456]))\n",
            "Xcoords:  array('d', [2.2, 7.2, 10.23])\n",
            "Ycoords:  array('d', [4.2, -25.1, -5.456])\n",
            "[<POINT (2.2 4.2)>, <POINT (7.2 -25.1)>, <POINT (10.23 -5.456)>]\n"
          ]
        }
      ]
    },
    {
      "cell_type": "code",
      "source": [
        "#get length\n",
        "l_length = line.length\n",
        "print(l_length)"
      ],
      "metadata": {
        "colab": {
          "base_uri": "https://localhost:8080/"
        },
        "id": "3WWLVkx10U2Y",
        "outputId": "c6e6ff91-b17f-4d45-e3ec-902ef5618c87"
      },
      "execution_count": 25,
      "outputs": [
        {
          "output_type": "stream",
          "name": "stdout",
          "text": [
            "49.59986808891276\n"
          ]
        }
      ]
    },
    {
      "cell_type": "markdown",
      "source": [
        "##Polygon\n",
        "Polygon needs at least three coordinate-tuples"
      ],
      "metadata": {
        "id": "UTDpU08K1Js2"
      }
    },
    {
      "cell_type": "code",
      "source": [
        "poly = Polygon([(2.2, 4.2), (7.2, -25.1), (9.26, -2.456)])\n",
        "\n",
        "points = [point1, point2, point3] # use previously defined points\n",
        "points_list = []  # define an empty list\n",
        "for i in points:\n",
        "  point = [i.x, i.y] # convert a shapely point object i to a list [x, y]\n",
        "  points_list.append(point) # add this new point to the points_list\n",
        "\n",
        "poly2 = Polygon(points_list)\n",
        "\n",
        "# Geometry type can be accessed as a String\n",
        "poly_type = poly.geom_type\n",
        "\n",
        "# Using the Python's type function gives the type in a different format\n",
        "poly_type2 = type(poly)\n",
        "\n",
        "print(\"Polygon 'poly'  created using method1:\", poly)\n",
        "print(\"Polygon 'poly2' created using method2:\", poly)\n",
        "print(poly2)"
      ],
      "metadata": {
        "colab": {
          "base_uri": "https://localhost:8080/"
        },
        "id": "v2F-JT2b0e3M",
        "outputId": "08d092a4-3f39-47d7-85e1-fc79758467ec"
      },
      "execution_count": 28,
      "outputs": [
        {
          "output_type": "stream",
          "name": "stdout",
          "text": [
            "Polygon 'poly'  created using method1: POLYGON ((2.2 4.2, 7.2 -25.1, 9.26 -2.456, 2.2 4.2))\n",
            "Polygon 'poly2' created using method2: POLYGON ((2.2 4.2, 7.2 -25.1, 9.26 -2.456, 2.2 4.2))\n",
            "POLYGON ((2.2 4.2, 7.2 -25.1, 10.23 -5.456, 2.2 4.2))\n"
          ]
        }
      ]
    },
    {
      "cell_type": "markdown",
      "source": [
        "#Analysis"
      ],
      "metadata": {
        "id": "hEax0Mqf14p4"
      }
    },
    {
      "cell_type": "code",
      "source": [
        "poly_centroid = poly.centroid\n",
        "\n",
        "poly_area = poly.area\n",
        "\n",
        "poly_bbox = poly.bounds\n",
        "poly_ext = poly.exterior\n",
        "\n",
        "poly_ext_length = poly_ext.length\n",
        "print(\"Poly centroid: \", poly_centroid)\n",
        "\n",
        "print(\"Poly Area: \", poly_area)\n",
        "\n",
        "print(\"Poly Bounding Box: \", poly_bbox)\n",
        "\n",
        "print(\"Poly Exterior: \", poly_ext)\n",
        "\n",
        "print(\"Poly Exterior Length: \", poly_ext_length)\n"
      ],
      "metadata": {
        "colab": {
          "base_uri": "https://localhost:8080/"
        },
        "id": "YeCc_4DZ12aW",
        "outputId": "324cddf0-9245-4f8e-aee0-0f4f22cfae02"
      },
      "execution_count": 33,
      "outputs": [
        {
          "output_type": "stream",
          "name": "stdout",
          "text": [
            "Poly centroid:  POINT (6.22 -7.785333333333334)\n",
            "Poly Area:  86.789\n",
            "Poly Bounding Box:  (2.2, -25.1, 9.26, 4.2)\n",
            "Poly Exterior:  LINEARRING (2.2 4.2, 7.2 -25.1, 9.26 -2.456, 2.2 4.2)\n",
            "Poly Exterior Length:  62.16395199996553\n"
          ]
        }
      ]
    },
    {
      "cell_type": "code",
      "source": [
        "#example\n",
        "my_polygon =Polygon([(2.2, 4.2), (7.2, -25.1), (10, -3)])\n",
        "\n",
        "my_polygon_area = my_polygon.area\n",
        "\n",
        "print(my_polygon_area)"
      ],
      "metadata": {
        "colab": {
          "base_uri": "https://localhost:8080/"
        },
        "id": "15ngQU2J3URM",
        "outputId": "1554b536-038e-463c-ce8f-89546d647b6f"
      },
      "execution_count": 36,
      "outputs": [
        {
          "output_type": "stream",
          "name": "stdout",
          "text": [
            "96.27\n"
          ]
        }
      ]
    },
    {
      "cell_type": "code",
      "source": [
        "#example\n",
        "point_1 = [10, 20]\n",
        "\n",
        "point_2 = [40, 90]\n",
        "\n",
        "point_3 = [100, 150]\n",
        "\n",
        "li_ne = LineString([point_1, point_2, point_3])\n",
        "\n",
        "print(li_ne.length)"
      ],
      "metadata": {
        "colab": {
          "base_uri": "https://localhost:8080/"
        },
        "id": "GcayY9nF46IZ",
        "outputId": "5fb28306-70db-4a72-c5da-de0bd0a35c3b"
      },
      "execution_count": 39,
      "outputs": [
        {
          "output_type": "stream",
          "name": "stdout",
          "text": [
            "161.0105448010248\n"
          ]
        }
      ]
    },
    {
      "cell_type": "code",
      "source": [
        "#euclidean distance between LA and NYC\n",
        "#New York City has approximate coordinates: 40N, 70W.\n",
        "#Los Angles has approximate coordinates 34N, 118W.\n",
        "\n",
        "def euclidean_distance(x1, y1, x2, y2):\n",
        "    return math.sqrt((x2 - x1) ** 2 + (y2 - y1) ** 2)\n",
        "\n",
        "ny_latitude = 40\n",
        "ny_longitude = -70\n",
        "la_latitude = 34\n",
        "la_longitude = -118\n",
        "\n",
        "miles_per_degree = 69\n",
        "\n",
        "distance = euclidean_distance(ny_latitude, ny_longitude, la_latitude, la_longitude) * miles_per_degree\n",
        "\n",
        "print(distance)"
      ],
      "metadata": {
        "colab": {
          "base_uri": "https://localhost:8080/"
        },
        "id": "ymwPqQAd5gl-",
        "outputId": "5ab29954-da83-417e-b52d-49e370d5ccc5"
      },
      "execution_count": 41,
      "outputs": [
        {
          "output_type": "stream",
          "name": "stdout",
          "text": [
            "3337.774707795599\n"
          ]
        }
      ]
    },
    {
      "cell_type": "code",
      "source": [],
      "metadata": {
        "colab": {
          "base_uri": "https://localhost:8080/",
          "height": 182
        },
        "id": "NWsa_fN46Ckv",
        "outputId": "32dc198a-dc83-41c8-def5-b0d7de7b44df"
      },
      "execution_count": 42,
      "outputs": [
        {
          "output_type": "error",
          "ename": "AttributeError",
          "evalue": "'list' object has no attribute 'length'",
          "traceback": [
            "\u001b[0;31m---------------------------------------------------------------------------\u001b[0m",
            "\u001b[0;31mAttributeError\u001b[0m                            Traceback (most recent call last)",
            "\u001b[0;32m<ipython-input-42-d9c32e1d8967>\u001b[0m in \u001b[0;36m<cell line: 4>\u001b[0;34m()\u001b[0m\n\u001b[1;32m      2\u001b[0m \u001b[0mpolyline_q\u001b[0m \u001b[0;34m=\u001b[0m \u001b[0;34m[\u001b[0m\u001b[0;34m[\u001b[0m\u001b[0;36m1\u001b[0m\u001b[0;34m,\u001b[0m\u001b[0;36m2\u001b[0m\u001b[0;34m]\u001b[0m\u001b[0;34m,\u001b[0m \u001b[0;34m[\u001b[0m\u001b[0;36m3\u001b[0m\u001b[0;34m,\u001b[0m\u001b[0;36m5\u001b[0m\u001b[0;34m]\u001b[0m\u001b[0;34m,\u001b[0m \u001b[0;34m[\u001b[0m\u001b[0;36m4\u001b[0m\u001b[0;34m,\u001b[0m \u001b[0;36m10\u001b[0m\u001b[0;34m]\u001b[0m\u001b[0;34m,\u001b[0m \u001b[0;34m[\u001b[0m\u001b[0;36m12\u001b[0m\u001b[0;34m,\u001b[0m \u001b[0;36m20\u001b[0m\u001b[0;34m]\u001b[0m\u001b[0;34m]\u001b[0m\u001b[0;34m\u001b[0m\u001b[0;34m\u001b[0m\u001b[0m\n\u001b[1;32m      3\u001b[0m \u001b[0;34m\u001b[0m\u001b[0m\n\u001b[0;32m----> 4\u001b[0;31m \u001b[0mprint\u001b[0m\u001b[0;34m(\u001b[0m\u001b[0mpolyline_q\u001b[0m\u001b[0;34m.\u001b[0m\u001b[0mlength\u001b[0m\u001b[0;34m)\u001b[0m\u001b[0;34m\u001b[0m\u001b[0;34m\u001b[0m\u001b[0m\n\u001b[0m",
            "\u001b[0;31mAttributeError\u001b[0m: 'list' object has no attribute 'length'"
          ]
        }
      ]
    }
  ]
}